{
 "cells": [
  {
   "cell_type": "markdown",
   "source": [
    "# Tesseract-OCR\n",
    "Code I wrote to test py-tesseract, a Python wrapper for the Tesseract OCR engine by Google."
   ],
   "metadata": {
    "collapsed": false
   },
   "id": "da12d5f3f986f7be"
  },
  {
   "cell_type": "code",
   "execution_count": null,
   "outputs": [],
   "source": [],
   "metadata": {
    "collapsed": false
   },
   "id": "7caf3f5b6d1e3b8b"
  }
 ],
 "metadata": {
  "kernelspec": {
   "display_name": "Python 3",
   "language": "python",
   "name": "python3"
  },
  "language_info": {
   "codemirror_mode": {
    "name": "ipython",
    "version": 2
   },
   "file_extension": ".py",
   "mimetype": "text/x-python",
   "name": "python",
   "nbconvert_exporter": "python",
   "pygments_lexer": "ipython2",
   "version": "2.7.6"
  }
 },
 "nbformat": 4,
 "nbformat_minor": 5
}

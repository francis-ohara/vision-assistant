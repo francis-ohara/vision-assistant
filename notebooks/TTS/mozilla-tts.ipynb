{
 "cells": [
  {
   "cell_type": "markdown",
   "source": [
    "# Mozilla-TTS\n",
    "This notebook contains code for testing the Mozilla Text-To-Speech model for speech synthesis currently being maintained by [Coqui-AI](https://github.com/coqui-ai/TTS).\n",
    "\n",
    "The model uses the Tacotron 2 model for extracting acoustic features from text, and the MelGAN model for synthesizing speech from the extracted features (voice encoding)."
   ],
   "metadata": {
    "collapsed": false
   },
   "id": "fd480503cf72c3e3"
  },
  {
   "cell_type": "code",
   "execution_count": null,
   "outputs": [],
   "source": [],
   "metadata": {
    "collapsed": false
   },
   "id": "4f8fccf8ac88a82b"
  }
 ],
 "metadata": {
  "kernelspec": {
   "display_name": "Python 3",
   "language": "python",
   "name": "python3"
  },
  "language_info": {
   "codemirror_mode": {
    "name": "ipython",
    "version": 2
   },
   "file_extension": ".py",
   "mimetype": "text/x-python",
   "name": "python",
   "nbconvert_exporter": "python",
   "pygments_lexer": "ipython2",
   "version": "2.7.6"
  }
 },
 "nbformat": 4,
 "nbformat_minor": 5
}
